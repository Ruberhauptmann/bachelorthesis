{
 "cells": [
  {
   "cell_type": "code",
   "execution_count": 19,
   "id": "020eeec8-aa88-4432-a61b-d6d07cead887",
   "metadata": {},
   "outputs": [],
   "source": [
    "import os\n",
    "import numpy as np\n",
    "import matplotlib.pyplot as plt\n",
    "import re"
   ]
  },
  {
   "cell_type": "code",
   "execution_count": 42,
   "id": "1b32cccf-12aa-4652-ad82-6e53b3ac7874",
   "metadata": {},
   "outputs": [
    {
     "name": "stdout",
     "output_type": "stream",
     "text": [
      "{'init_run': ['19.90', '20.15'], 'electrons': ['342.47', '347.02'], 'forces': ['6.79', '6.82'], 'stress': ['27.80', '27.83'], 'wfcinit': ['19.29', '19.53'], 'potinit': ['0.02', '0.02'], 'hinit0': ['0.19', '0.19'], 'c_bands': ['305.97', '310.06'], 'sum_band': ['36.34', '36.74'], 'v_of_rho': ['0.15', '0.16'], 'mix_rho': ['0.01', '0.02'], 'init_us_2': ['32.16', '32.51'], 'init_us_2:cp': ['32.01', '32.41'], 'cegterg': ['242.67', '244.93'], 'cdiaghg': ['2.91', '2.97'], 'h_psi': ['221.40', '223.55'], 'g_psi': ['2.86', '2.89'], 'h_psi:calbec': ['30.89', '31.17'], 'vloc_psi': ['157.25', '158.85'], 'add_vuspsi': ['31.79', '32.10'], 'calbec': ['35.48', '35.82'], 'fft': ['0.14', '0.14'], 'ffts': ['0.00', '0.00'], 'fftw': ['144.55', '146.07'], 'PWSCF': [397.74, 478.82]}\n"
     ]
    }
   ],
   "source": [
    "times = {}\n",
    "\n",
    "with open(\"silicon_example.out\", \"r\") as f:\n",
    "    searchlines = f.readlines()\n",
    "    for line in searchlines:\n",
    "        if \"CPU\" in line:\n",
    "            # format of data (except for last entry)\n",
    "            # ['init_run', ':', '19.90s', 'CPU', '20.15s', 'WALL', '(', '1', 'calls)\\n']\n",
    "            data = list(filter(None, line.split(\" \")))\n",
    "            times[data[0]] = [data[2][:-1], data[4][:-1]]\n",
    "            \n",
    "# special treatment for last entry, because its in 00m00s format\n",
    "# do i also have to consider hours?\n",
    "times[\"PWSCF\"][0] = int(re.split(\"[a-zA-Z]\", times[\"PWSCF\"][0])[0]) * 60 + float(re.split(\"[a-zA-Z]\", times[\"PWSCF\"][0])[1])\n",
    "times[\"PWSCF\"][1] = int(re.split(\"[a-zA-Z]\", times[\"PWSCF\"][1])[0]) * 60 + float(re.split(\"[a-zA-Z]\", times[\"PWSCF\"][1])[1])\n",
    "\n",
    "# format of times: $name_of_routine : [$CPU_time, $WALL_time]\n",
    "print(times)"
   ]
  },
  {
   "cell_type": "code",
   "execution_count": null,
   "id": "833191d1-3b32-4ceb-804c-e7bfa215f4fb",
   "metadata": {},
   "outputs": [],
   "source": []
  }
 ],
 "metadata": {
  "kernelspec": {
   "display_name": "Python 3.9.2 (PHYSnet)",
   "language": "python",
   "name": "physnet_python_3_9_2"
  },
  "language_info": {
   "codemirror_mode": {
    "name": "ipython",
    "version": 3
   },
   "file_extension": ".py",
   "mimetype": "text/x-python",
   "name": "python",
   "nbconvert_exporter": "python",
   "pygments_lexer": "ipython3",
   "version": "3.9.2"
  }
 },
 "nbformat": 4,
 "nbformat_minor": 5
}
